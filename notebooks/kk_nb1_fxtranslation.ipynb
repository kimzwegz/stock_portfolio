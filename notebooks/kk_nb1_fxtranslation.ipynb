{
 "cells": [
  {
   "cell_type": "code",
   "execution_count": null,
   "id": "d3acf96a",
   "metadata": {},
   "outputs": [],
   "source": [
    "import pandas as pd\n",
    "import numpy as np\n",
    "from dateutil import relativedelta\n",
    "pd.options.display.max_rows = 100\n",
    "from datetime import datetime\n",
    "import re\n",
    "from itertools import combinations, product"
   ]
  },
  {
   "cell_type": "code",
   "execution_count": 1,
   "id": "75627e0f",
   "metadata": {},
   "outputs": [
    {
     "name": "stdout",
     "output_type": "stream",
     "text": [
      "/Users/karimkhalil/Coding/development/stock_portfolio\n",
      "['/Users/karimkhalil/Coding/development/stock_portfolio/notebooks', '/Users/karimkhalil/Coding/development/stocksapp/stocksappenv/lib/python39.zip', '/Users/karimkhalil/Coding/development/stocksapp/stocksappenv/lib/python3.9', '/Users/karimkhalil/Coding/development/stocksapp/stocksappenv/lib/python3.9/lib-dynload', '', '/Users/karimkhalil/Coding/development/stocksapp/stocksappenv/lib/python3.9/site-packages', '/Users/karimkhalil/Coding/development/stock_portfolio']\n",
      "['admin', 'config', 'db_fin', 'local']\n",
      "['cf', 'prices_bckup', 'company_today', 'mrktcap', 'company_wfinancials', 'prices_n_fin', 'bs', 'fx', 'profile', 'idx_price', 'prices', 'idx_all', 'pnl']\n",
      "mypackage imported\n"
     ]
    }
   ],
   "source": [
    "from os import pardir, path\n",
    "import sys\n",
    "mod_path = path.abspath(path.join(pardir))\n",
    "\n",
    "print(mod_path)\n",
    "\n",
    "if mod_path not in sys.path:\n",
    "    sys.path.append(mod_path)\n",
    "\n",
    "print(sys.path)\n",
    "from data_extract import client, fin, company , companyfinancials_list, pnl, bs, cf, profile, prices, fx, mrktcap, prices_n_fin, idx_price, MONGO_FIN\n",
    "from mypackage import calperiod, Feature, Model"
   ]
  },
  {
   "cell_type": "code",
   "execution_count": null,
   "id": "5480ffc8",
   "metadata": {},
   "outputs": [],
   "source": [
    "db = MONGO_FIN()"
   ]
  },
  {
   "cell_type": "code",
   "execution_count": null,
   "id": "0d8adeb5",
   "metadata": {},
   "outputs": [],
   "source": [
    "import json\n",
    "mapping = json.load(open(\"../config/config.json\"))['mapping']"
   ]
  },
  {
   "cell_type": "markdown",
   "id": "790a88d0",
   "metadata": {},
   "source": [
    "#### Currency data"
   ]
  },
  {
   "cell_type": "code",
   "execution_count": null,
   "id": "ce4bb5a0",
   "metadata": {},
   "outputs": [],
   "source": [
    "df_fx1 = db.get_df(fx)\n",
    "df_fx2 = df_fx1[['symbol' , 'adjClose', 'date']]\n",
    "df_fx2['datetime'] = pd.to_datetime(df_fx2.date, format='%Y-%m-%d')\n",
    "df_fx2['yearmonth'] = df_fx2['datetime'].apply(lambda x: x.strftime('%Y%m'))\n",
    "df_fx2['year'] = df_fx2['datetime'].apply(lambda x: x.strftime('%Y'))\n",
    "df_fx2['month'] = df_fx2['datetime'].apply(lambda x: x.strftime('%m'))\n",
    "df_fx2.symbol = df_fx2.symbol.str.replace(\"/USD\", \"\")\n",
    "\n",
    "## DataFrame for the average fx for a given month ==> to be used to convert the fx for stock prices and market cap\n",
    "df_fx3 = df_fx2.groupby(['symbol' , 'yearmonth' , 'year' , 'month'])['adjClose'].mean().reset_index()\n",
    "df_fx3['key_fx'] = df_fx3.symbol+\".\"+df_fx3.yearmonth.astype(str)"
   ]
  },
  {
   "cell_type": "code",
   "execution_count": null,
   "id": "501e345f",
   "metadata": {},
   "outputs": [],
   "source": [
    "## financials FX ==> calculate fx for last 3 months\n",
    "df_fx4 = df_fx3\n",
    "fx_periods = list(df_fx4.yearmonth.unique())\n",
    "fx_periods2 = [i for i in fx_periods]\n",
    "fx_periods3 = {i: [(datetime.strptime(i, \"%Y%m\") + relativedelta.relativedelta(months=-j)).strftime('%Y%m')for j in range(3)] for i in fx_periods2}\n",
    "\n",
    "## DataFrame for the average fx for a given quarter ==> to be used to convert the fx for financials\n",
    "df_fx4['previous_q'] = df_fx4.apply(lambda row: fx_periods3[row['yearmonth']] , axis =1)\n",
    "df_fx4['previous_q'] = df_fx4.apply(lambda row: [row['symbol']+\".\"+ str(i) for i in row['previous_q']] , axis =1)\n",
    "df_fx4['previous_q_fx'] =  df_fx4.apply(lambda row: df_fx4.loc[df_fx4['key_fx'].isin(row['previous_q']), \"adjClose\"].mean() , axis =1)"
   ]
  },
  {
   "cell_type": "markdown",
   "id": "acbc30c5",
   "metadata": {},
   "source": [
    "#### Stock data"
   ]
  },
  {
   "cell_type": "code",
   "execution_count": null,
   "id": "4e67c512",
   "metadata": {},
   "outputs": [],
   "source": [
    "# import csv\n",
    "df_stock_mrkt1 = pd.read_csv('../data/df_stock_mrkt_q.csv')"
   ]
  },
  {
   "cell_type": "code",
   "execution_count": null,
   "id": "ad616df6",
   "metadata": {},
   "outputs": [],
   "source": [
    "# merge fx with stock data\n",
    "\n",
    "df_stock_mrkt2 = df_stock_mrkt1.copy()\n",
    "df_stock_mrkt2.currency = df_stock_mrkt2.currency.str.upper()\n",
    "df_stock_mrkt2.insert(5, 'datetime' , value = pd.to_datetime(df_stock_mrkt2.date, format='%Y-%m-%d'))\n",
    "df_stock_mrkt2.insert(5, column='yearmonth', value=df_stock_mrkt2['datetime'].apply(lambda x: x.strftime('%Y%m')))\n",
    "df_stock_mrkt2.insert(5, column='year', value=df_stock_mrkt2['datetime'].apply(lambda x: x.strftime('%Y')))\n",
    "df_stock_mrkt2.insert(5, column='month', value=df_stock_mrkt2['datetime'].apply(lambda x: x.strftime('%m')))\n",
    "df_stock_mrkt2.insert(5, column='key_fx', value=df_stock_mrkt2.currency+\".\"+df_stock_mrkt2.yearmonth.astype(str))\n",
    "df_stock_mrkt2.insert(5, column='fx_stock', value=df_stock_mrkt2.merge(df_fx3[['key_fx' , 'adjClose']], how = 'left', on = 'key_fx')['adjClose_y'])\n",
    "df_stock_mrkt2.insert(5, column='fx_quarter', value=df_stock_mrkt2.merge(df_fx4[['key_fx' , 'previous_q_fx']], how = 'left', on = 'key_fx')['previous_q_fx'])\n",
    "df_stock_mrkt2.loc[df_stock_mrkt2.currency == 'USD' , 'fx_stock'] = 1\n",
    "df_stock_mrkt2.loc[df_stock_mrkt2.currency == 'USD' , 'fx_quarter'] = 1"
   ]
  },
  {
   "cell_type": "code",
   "execution_count": null,
   "id": "5cf9f4bf",
   "metadata": {},
   "outputs": [],
   "source": [
    "quarter = {\n",
    "    1: \"Q1\", \n",
    "    2: \"Q1\", \n",
    "    3: \"Q1\", \n",
    "    4: \"Q2\", \n",
    "    5: \"Q2\", \n",
    "    6: \"Q2\", \n",
    "    7: \"Q3\", \n",
    "    8: \"Q3\",\n",
    "    9: \"Q3\",\n",
    "    10: \"Q4\", \n",
    "    11: \"Q4\",\n",
    "    12: \"Q4\"\n",
    "}"
   ]
  },
  {
   "cell_type": "code",
   "execution_count": null,
   "id": "fba29d45",
   "metadata": {},
   "outputs": [],
   "source": [
    "df_stock_mrkt2.info(verbose=True, show_counts=True)"
   ]
  },
  {
   "cell_type": "code",
   "execution_count": null,
   "id": "6c964a91",
   "metadata": {},
   "outputs": [],
   "source": [
    "# normalize common attributes from financials\n",
    "df_stock_mrkt2['fin_reportedCurrency'] = df_stock_mrkt2['bs_reportedCurrency']\n",
    "df_stock_mrkt2['fin_fillingDate'] = df_stock_mrkt2['bs_fillingDate']\n",
    "df_stock_mrkt2['fin_acceptedDateDate'] = df_stock_mrkt2['bs_acceptedDate']\n",
    "df_stock_mrkt2['fin_calendarYear'] = df_stock_mrkt2['bs_calendarYear']\n",
    "df_stock_mrkt2['fin_period'] = df_stock_mrkt2['bs_period']\n",
    "df_stock_mrkt2['cal_period'] = df_stock_mrkt2['month'].apply(lambda x: quarter[int(x)])\n",
    "df_stock_mrkt2['cal_yearperiod'] = df_stock_mrkt2['year'].astype(str) + df_stock_mrkt2['cal_period']\n",
    "df_stock_mrkt2['key_main'] = df_stock_mrkt2['symbol'] + \"_\" + df_stock_mrkt2['cal_yearperiod']"
   ]
  },
  {
   "cell_type": "code",
   "execution_count": null,
   "id": "651c7a2a",
   "metadata": {},
   "outputs": [],
   "source": [
    "df_aapl = df_stock_mrkt2[df_stock_mrkt2['symbol']=='AAPL']\n",
    "feature=Feature(df_aapl)\n",
    "feature.check_companyperiod(df_aapl,'symbol', 'year', 'cal_yearperiod', True)"
   ]
  },
  {
   "cell_type": "code",
   "execution_count": null,
   "id": "1c688b3c",
   "metadata": {},
   "outputs": [],
   "source": [
    "df_aapl[df_aapl['year'] == '2006']"
   ]
  },
  {
   "cell_type": "code",
   "execution_count": null,
   "id": "9f74a923",
   "metadata": {},
   "outputs": [],
   "source": [
    "# industry categorization mapping\n",
    "mapping = json.load(open(\"../config/config.json\"))['mapping']\n",
    "df_stock_mrkt2['industry-category'] = df_stock_mrkt2.industry.map(mapping['industry'])\n",
    "df_industries = df_stock_mrkt2.groupby(['industry' , 'industry-category'])['symbol'].count().reset_index()"
   ]
  },
  {
   "cell_type": "code",
   "execution_count": null,
   "id": "033f4149",
   "metadata": {},
   "outputs": [],
   "source": [
    "## industry mapping checks\n",
    "df_industries = df_stock_mrkt2.groupby(['symbol' , 'industry'])['adjClose'].count().reset_index().drop(columns='adjClose')\n",
    "mapping = json.load(open(\"../config/config.json\"))['mapping']\n",
    "df_industry_category = df_industries.industry.value_counts().reset_index()\n",
    "df_industry_category.columns = ['industry' , 'industry_count']\n",
    "df_industry_category['industry_category'] = df_industry_category.industry.map(mapping['industry'])"
   ]
  },
  {
   "cell_type": "code",
   "execution_count": null,
   "id": "f5601621",
   "metadata": {},
   "outputs": [],
   "source": [
    "# relevant columns for data\n",
    "cols_stock = json.load(open(\"../config/config.json\"))['cols']['stock']\n",
    "df_stock_mrkt3 = df_stock_mrkt2[cols_stock]"
   ]
  },
  {
   "cell_type": "code",
   "execution_count": null,
   "id": "f127fd84",
   "metadata": {},
   "outputs": [],
   "source": [
    "df_aapl = df_stock_mrkt3[df_stock_mrkt3['symbol']=='AAPL']\n",
    "feature=Feature(df_aapl)\n",
    "feature.check_companyperiod(df_aapl,'symbol', 'year', 'cal_yearperiod', True)"
   ]
  },
  {
   "cell_type": "code",
   "execution_count": null,
   "id": "406d7be3",
   "metadata": {},
   "outputs": [],
   "source": [
    "df_stock_mrkt3.info(verbose=True, show_counts=True)"
   ]
  },
  {
   "cell_type": "code",
   "execution_count": null,
   "id": "103f423e",
   "metadata": {},
   "outputs": [],
   "source": [
    "# remove missing data\n",
    "\n",
    "filter_mrktcap = df_stock_mrkt3['marketCap'].notna() ## remove companies with no market capitalization \n",
    "filter_industry = df_stock_mrkt3['industry-category'].notna() ## remove some industries \n",
    "filter_fx1 = df_stock_mrkt3['fx_quarter'].notna()\n",
    "filter_fx2 = df_stock_mrkt3['fx_stock'].notna()\n",
    "filter_zerocash = df_stock_mrkt3['bs_cashAndShortTermInvestments'] > 0\n",
    "filter_noshell  = df_stock_mrkt3['industry-category']!= 'shell' # exclude holding companies\n",
    "\n",
    "\n",
    "df_stock_mrkt4 = df_stock_mrkt3.loc[filter_fx1 & filter_fx2 & filter_mrktcap & filter_industry & filter_fx1 & filter_fx2 & filter_noshell]\n",
    "\n",
    "df_stock_mrkt4.info(verbose=True, show_counts=True)"
   ]
  },
  {
   "cell_type": "code",
   "execution_count": null,
   "id": "60100a77",
   "metadata": {},
   "outputs": [],
   "source": [
    "df_aapl = df_stock_mrkt4[df_stock_mrkt4['symbol']=='AAPL']\n",
    "feature=Feature(df_aapl)\n",
    "feature.check_companyperiod(df_aapl,'symbol', 'year', 'cal_yearperiod', True)"
   ]
  },
  {
   "cell_type": "code",
   "execution_count": null,
   "id": "70aebb74",
   "metadata": {},
   "outputs": [],
   "source": [
    "## remove companies with more than 1 financial in a given quarter\n",
    "df_stock_mrkt4.drop_duplicates(subset='key_main' , keep='last', inplace = True)\n",
    "df_stock_mrkt4.info(verbose=True, show_counts=True)"
   ]
  },
  {
   "cell_type": "code",
   "execution_count": null,
   "id": "c69e7ef4",
   "metadata": {},
   "outputs": [],
   "source": [
    "df_aapl = df_stock_mrkt4[df_stock_mrkt4['symbol']=='AAPL']\n",
    "feature=Feature(df_aapl)\n",
    "feature.check_companyperiod(df_aapl,'symbol', 'year', 'cal_yearperiod', True)"
   ]
  },
  {
   "cell_type": "code",
   "execution_count": null,
   "id": "77774038",
   "metadata": {},
   "outputs": [],
   "source": [
    "# fx translation\n",
    "\n",
    "cols_fxspot = json.load(open(\"../config/config.json\"))['cols']['fx_stock']\n",
    "cols_fxq = json.load(open(\"../config/config.json\"))['cols']['fx_q']\n",
    "\n",
    "def fx(df, cols, col_fx, drop=True):\n",
    "    df2 = df.copy()\n",
    "    for i in cols:\n",
    "        loc = df.columns.get_loc(i)\n",
    "        newcol = \"usd_\"+i\n",
    "        df2.insert(loc, newcol, df[i] * df[col_fx])\n",
    "        if drop==True:\n",
    "            df2.drop(columns = i, inplace=True)\n",
    "    return df2\n",
    "\n",
    "df_stock_mrkt5 = df_stock_mrkt4.copy()\n",
    "df_stock_mrkt6 = df_stock_mrkt4.copy()\n",
    "\n",
    "df_stock_mrkt5 = fx(df_stock_mrkt5, cols_fxspot, 'fx_stock', False)\n",
    "df_stock_mrkt5 = fx(df_stock_mrkt5, cols_fxq, 'fx_quarter', False)\n",
    "\n",
    "df_stock_mrkt6 = fx(df_stock_mrkt6, cols_fxspot, 'fx_stock', True)\n",
    "df_stock_mrkt6 = fx(df_stock_mrkt6, cols_fxq, 'fx_quarter', True)"
   ]
  },
  {
   "cell_type": "code",
   "execution_count": null,
   "id": "c0bc41e8",
   "metadata": {},
   "outputs": [],
   "source": [
    "df_stock_mrkt6.info(verbose=True, show_counts=True)"
   ]
  },
  {
   "cell_type": "code",
   "execution_count": null,
   "id": "02751f81",
   "metadata": {},
   "outputs": [],
   "source": [
    "# df_stock_mrkt5.to_csv('../data/data_prefeatures_wlocalfx.csv')\n",
    "# df_stock_mrkt6.to_csv('../data/data_prefeatures.csv')"
   ]
  }
 ],
 "metadata": {
  "kernelspec": {
   "display_name": "Python 3.10.8 (conda)",
   "language": "python",
   "name": "python3"
  },
  "language_info": {
   "codemirror_mode": {
    "name": "ipython",
    "version": 3
   },
   "file_extension": ".py",
   "mimetype": "text/x-python",
   "name": "python",
   "nbconvert_exporter": "python",
   "pygments_lexer": "ipython3",
   "version": "3.10.8"
  },
  "vscode": {
   "interpreter": {
    "hash": "fc088db7296e4bb576a424e9aa1cfd7122cfb101017b749b7ca4803d514b79ca"
   }
  }
 },
 "nbformat": 4,
 "nbformat_minor": 5
}
