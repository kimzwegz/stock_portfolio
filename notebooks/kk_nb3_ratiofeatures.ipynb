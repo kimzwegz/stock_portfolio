{
 "cells": [
  {
   "cell_type": "code",
   "execution_count": 1,
   "metadata": {},
   "outputs": [],
   "source": [
    "import pandas as pd\n",
    "import numpy as np\n",
    "from dateutil import relativedelta\n",
    "pd.options.display.max_rows = 100\n",
    "from datetime import datetime\n",
    "import re\n",
    "import plotly.express as px\n",
    "from plotly.subplots import make_subplots\n",
    "import plotly.graph_objects as go\n",
    "import numpy as np\n",
    "import matplotlib.pyplot as plt\n",
    "import scipy\n",
    "import json\n",
    "\n",
    "import warnings\n",
    "warnings.filterwarnings('ignore')"
   ]
  },
  {
   "cell_type": "code",
   "execution_count": 2,
   "metadata": {},
   "outputs": [],
   "source": [
    "from sklearn.linear_model import LinearRegression, Ridge, Lasso\n",
    "from sklearn import metrics"
   ]
  },
  {
   "cell_type": "code",
   "execution_count": 3,
   "metadata": {},
   "outputs": [
    {
     "name": "stdout",
     "output_type": "stream",
     "text": [
      "/Users/karimkhalil/Coding/development/stock_portfolio\n",
      "['/Users/karimkhalil/Coding/development/stock_portfolio/notebooks', '/Users/karimkhalil/Coding/development/fin/conda_env/lib/python39.zip', '/Users/karimkhalil/Coding/development/fin/conda_env/lib/python3.9', '/Users/karimkhalil/Coding/development/fin/conda_env/lib/python3.9/lib-dynload', '', '/Users/karimkhalil/Coding/development/fin/conda_env/lib/python3.9/site-packages', '/Users/karimkhalil/Coding/development/stock_portfolio']\n",
      "['admin', 'config', 'db_fin', 'local']\n",
      "['cf', 'prices_bckup', 'company_today', 'mrktcap', 'company_wfinancials', 'prices_n_fin', 'bs', 'fx', 'profile', 'idx_price', 'prices', 'idx_all', 'pnl']\n",
      "mypackage imported\n"
     ]
    }
   ],
   "source": [
    "## local imports\n",
    "\n",
    "from os import pardir, path\n",
    "import sys\n",
    "mod_path = path.abspath(path.join(pardir))\n",
    "\n",
    "print(mod_path)\n",
    "\n",
    "if mod_path not in sys.path:\n",
    "    sys.path.append(mod_path)\n",
    "\n",
    "print(sys.path)\n",
    "from data_extract import client, fin, company , companyfinancials_list, pnl, bs, cf, profile, prices, fx, mrktcap, prices_n_fin,  MONGO_FIN ## note needed for this notebook ignore if not using logal Mongodb\n",
    "from mypackage import Feature, Model\n"
   ]
  },
  {
   "cell_type": "code",
   "execution_count": 4,
   "metadata": {},
   "outputs": [
    {
     "name": "stdout",
     "output_type": "stream",
     "text": [
      "Feature object instantiated\n"
     ]
    }
   ],
   "source": [
    "db = MONGO_FIN()\n",
    "df_csv = pd.read_csv('../data/data_vf.csv')\n",
    "# df_csv = pd.read_csv('../data/data_vf_aapl.csv')\n",
    "df_aapl = df_csv[(df_csv['symbol']=='AAPL') | (df_csv['symbol']=='MSFT')]\n",
    "feature = Feature(df_aapl)\n",
    "# feature = Feature(pd.read_csv('../data/data_vf.csv'))\n",
    "df_raw = feature.df.copy()"
   ]
  },
  {
   "cell_type": "code",
   "execution_count": 5,
   "metadata": {},
   "outputs": [
    {
     "data": {
      "text/plain": [
       "0.5"
      ]
     },
     "execution_count": 5,
     "metadata": {},
     "output_type": "execute_result"
    }
   ],
   "source": [
    "feature.ratio(1,2)"
   ]
  },
  {
   "cell_type": "code",
   "execution_count": 6,
   "metadata": {},
   "outputs": [
    {
     "name": "stdout",
     "output_type": "stream",
     "text": [
      "(608641, 128) (257, 128)\n"
     ]
    }
   ],
   "source": [
    "print(df_csv.shape, df_aapl.shape)"
   ]
  },
  {
   "cell_type": "code",
   "execution_count": 7,
   "metadata": {},
   "outputs": [],
   "source": [
    "# df_aapl = df_csv[df_csv['symbol']=='AAPL']\n",
    "# df_aapl.to_csv('../data/data_vf_aapl.csv')"
   ]
  },
  {
   "cell_type": "code",
   "execution_count": 8,
   "metadata": {},
   "outputs": [],
   "source": [
    "# df_returns_test = feature.change(df_csv, 'symbol' , 'cal_yearperiod' , 1, ['usd_adjClose'])\n",
    "# df_returns_test = feature.change(df_returns_test, 'symbol' , 'cal_yearperiod' , 2, ['usd_adjClose'])\n",
    "# df_returns_test = df_returns_test[['symbol', 'cal_yearperiod','usd_adjClose' ,  'usd_adjClose_t-1', 'usd_adjClose_t-1_delta' ,'usd_adjClose_t-1_change']]"
   ]
  },
  {
   "cell_type": "code",
   "execution_count": 9,
   "metadata": {},
   "outputs": [
    {
     "data": {
      "text/plain": [
       "(257, 128)"
      ]
     },
     "execution_count": 9,
     "metadata": {},
     "output_type": "execute_result"
    }
   ],
   "source": [
    "df_raw.shape"
   ]
  },
  {
   "cell_type": "code",
   "execution_count": 10,
   "metadata": {},
   "outputs": [],
   "source": [
    "def replacecol(df: pd.DataFrame, col_replace: str,replace=False):\n",
    "    df2 = df.copy()\n",
    "    cols = json.load(open(\"../config/config.json\"))['cols']\n",
    "    by = cols[col_replace]\n",
    "    cols = df.columns.tolist()\n",
    "    col_new = col_replace+\"_new\"\n",
    "    if col_new in cols:\n",
    "        df2.drop(columns=col_new,inplace=True)\n",
    "\n",
    "    index_col = df2.columns.get_loc(col_replace)\n",
    "    \n",
    "    l = []\n",
    "    l.append(col_replace)\n",
    "    l.append(col_new)\n",
    "    before = df2.loc[df2[col_replace]==0].shape[0]\n",
    "    print(f'{before:,} with zeros for column {col_replace} BEFORE correction')\n",
    "    if replace==False:\n",
    "        # df2.insert(index_col, col_new, df2.apply(lambda row: sum([row[i] for i in by]), axis=1)) # overwrite the original data\n",
    "        ## do not overwrite original data\n",
    "        df2['calc'] =  df2.apply(lambda row: sum([row[i] for i in by]), axis=1)\n",
    "        df2.loc[df2[col_replace]==0, col_new] = df2['calc']\n",
    "        df2.loc[df2[col_replace]!=0, col_new] = df2[col_replace]\n",
    "    else:\n",
    "        df2['calc'] = df2.apply(lambda row: sum([row[i] for i in by]), axis=1)\n",
    "        # df2[col_replace] = df2['calc']\n",
    "        df2.loc[df2[col_replace]==0, col_new] = df2['calc']\n",
    "        df2.loc[df2[col_replace]!=0, col_new] = df2[col_replace]\n",
    "        df2[col_replace] = df2[col_new]\n",
    "    \n",
    "    df2['check'] = df2[col_new]- df2[col_replace]\n",
    "    all_cols = l+by\n",
    "    after = df2.loc[df2[col_replace]==0].shape[0]\n",
    "    print(f'{after:,} with zeros for column {col_replace} AFTER correction')\n",
    "    print(\"-----------------------------------------\")\n",
    "    print(f'{before-after:,} corrected for column {col_replace}\\n')\n",
    "    return df2[cols], df2[all_cols]"
   ]
  },
  {
   "cell_type": "code",
   "execution_count": 11,
   "metadata": {},
   "outputs": [],
   "source": [
    "# df_appl_raw = df_raw.loc[df_raw.symbol=='AAPL']\n",
    "# df_appl_raw.shape\n",
    "\n",
    "# df_appl_raw = df_raw.loc[df_raw.symbol=='AAPL']\n",
    "# df_aapl_new = replacecol(df_appl_raw, 'usd_bs_cashAndShortTermInvestments' )[1]\n",
    "# df_aapl_new = replacecol(df_appl_raw, 'usd_bs_totalCurrentAssets')[1]\n",
    "# df_aapl_new = replacecol(df_appl_raw, 'usd_bs_goodwillAndIntangibleAssets')[1]\n",
    "# df_aapl_new = replacecol(df_appl_raw, 'usd_bs_totalNonCurrentAssets', replace=True)[0]"
   ]
  },
  {
   "cell_type": "code",
   "execution_count": 12,
   "metadata": {},
   "outputs": [],
   "source": [
    "# df_zeroasset = df_csv.loc[(df_csv['usd_bs_totalAssets']==0) & df_csv['usd_bs_cashAndCashEquivalents']!=0]\n",
    "# print(df_zeroasset.shape)\n",
    "\n",
    "# df_zeroasset2 = replacecol(df_zeroasset, 'usd_bs_totalAssets', replace=True)[0]\n",
    "# print(df_zeroasset2.shape[0])"
   ]
  },
  {
   "cell_type": "code",
   "execution_count": 13,
   "metadata": {},
   "outputs": [
    {
     "name": "stdout",
     "output_type": "stream",
     "text": [
      "0 with zeros for column usd_bs_cashAndShortTermInvestments BEFORE correction\n",
      "0 with zeros for column usd_bs_cashAndShortTermInvestments AFTER correction\n",
      "-----------------------------------------\n",
      "0 corrected for column usd_bs_cashAndShortTermInvestments\n",
      "\n",
      "0 with zeros for column usd_bs_totalCurrentAssets BEFORE correction\n",
      "0 with zeros for column usd_bs_totalCurrentAssets AFTER correction\n",
      "-----------------------------------------\n",
      "0 corrected for column usd_bs_totalCurrentAssets\n",
      "\n",
      "0 with zeros for column usd_bs_totalNonCurrentAssets BEFORE correction\n",
      "0 with zeros for column usd_bs_totalNonCurrentAssets AFTER correction\n",
      "-----------------------------------------\n",
      "0 corrected for column usd_bs_totalNonCurrentAssets\n",
      "\n",
      "0 with zeros for column usd_bs_totalAssets BEFORE correction\n",
      "0 with zeros for column usd_bs_totalAssets AFTER correction\n",
      "-----------------------------------------\n",
      "0 corrected for column usd_bs_totalAssets\n",
      "\n",
      "100 with zeros for column usd_bs_totalDebt BEFORE correction\n",
      "100 with zeros for column usd_bs_totalDebt AFTER correction\n",
      "-----------------------------------------\n",
      "0 corrected for column usd_bs_totalDebt\n",
      "\n",
      "32 with zeros for column usd_bs_totalNonCurrentLiabilities BEFORE correction\n",
      "32 with zeros for column usd_bs_totalNonCurrentLiabilities AFTER correction\n",
      "-----------------------------------------\n",
      "0 corrected for column usd_bs_totalNonCurrentLiabilities\n",
      "\n",
      "0 with zeros for column usd_bs_totalCurrentLiabilities BEFORE correction\n",
      "0 with zeros for column usd_bs_totalCurrentLiabilities AFTER correction\n",
      "-----------------------------------------\n",
      "0 corrected for column usd_bs_totalCurrentLiabilities\n",
      "\n",
      "0 with zeros for column usd_bs_totalLiabilities BEFORE correction\n",
      "0 with zeros for column usd_bs_totalLiabilities AFTER correction\n",
      "-----------------------------------------\n",
      "0 corrected for column usd_bs_totalLiabilities\n",
      "\n",
      "0 with zeros for column usd_bs_totalStockholdersEquity BEFORE correction\n",
      "0 with zeros for column usd_bs_totalStockholdersEquity AFTER correction\n",
      "-----------------------------------------\n",
      "0 corrected for column usd_bs_totalStockholdersEquity\n",
      "\n",
      "0 with zeros for column usd_pnl_sellingGeneralAndAdministrativeExpenses BEFORE correction\n",
      "0 with zeros for column usd_pnl_sellingGeneralAndAdministrativeExpenses AFTER correction\n",
      "-----------------------------------------\n",
      "0 corrected for column usd_pnl_sellingGeneralAndAdministrativeExpenses\n",
      "\n",
      "0 with zeros for column usd_pnl_operatingExpenses BEFORE correction\n",
      "0 with zeros for column usd_pnl_operatingExpenses AFTER correction\n",
      "-----------------------------------------\n",
      "0 corrected for column usd_pnl_operatingExpenses\n",
      "\n",
      "0 with zeros for column usd_pnl_costAndExpenses BEFORE correction\n",
      "0 with zeros for column usd_pnl_costAndExpenses AFTER correction\n",
      "-----------------------------------------\n",
      "0 corrected for column usd_pnl_costAndExpenses\n",
      "\n"
     ]
    }
   ],
   "source": [
    "## correct for missisng data\n",
    "\n",
    "### correct for BS\n",
    "cols_replace = [\n",
    "    \"usd_bs_cashAndShortTermInvestments\",\n",
    "    \"usd_bs_totalCurrentAssets\",\n",
    "    \"usd_bs_totalNonCurrentAssets\",\n",
    "    \"usd_bs_totalAssets\",\n",
    "    \"usd_bs_totalDebt\",\n",
    "    \"usd_bs_totalNonCurrentLiabilities\",\n",
    "    \"usd_bs_totalCurrentLiabilities\",\n",
    "    \"usd_bs_totalLiabilities\",\n",
    "    \"usd_bs_totalStockholdersEquity\",\n",
    "    \"usd_pnl_sellingGeneralAndAdministrativeExpenses\",\n",
    "    \"usd_pnl_operatingExpenses\",\n",
    "    \"usd_pnl_costAndExpenses\"\n",
    "    ]\n",
    "\n",
    "for i in cols_replace:\n",
    "    df_main = replacecol(feature.df, i, replace=True)[0]\n",
    "\n",
    "### correct for ebitda\n",
    "df_main.loc[df_main['usd_pnl_ebitda']==0, 'usd_pnl_ebitda'] = df_main['usd_pnl_revenue'] - df_main['usd_pnl_costAndExpenses']\n"
   ]
  },
  {
   "cell_type": "code",
   "execution_count": 14,
   "metadata": {},
   "outputs": [],
   "source": [
    "\n",
    "## add returns up to 4 quarters in arrears\n",
    "df_returns = feature.change(df_main, 'symbol' , 'cal_yearperiod' , 1, ['usd_adjClose'])\n",
    "df_returns = feature.change(df_returns, 'symbol' , 'cal_yearperiod' , 2, ['usd_adjClose'])\n",
    "# df_returns = feature.change(df_returns, 'symbol' , 'cal_yearperiod' , 3, ['usd_adjClose'])\n",
    "# df_returns = feature.change(df_returns, 'symbol' , 'cal_yearperiod' , 4, ['usd_adjClose'])\n",
    "\n",
    "# df_returns = feature.change(df_returns, 'symbol' , 'cal_yearperiod' , 1, ['usd_adjClose'], log=True)\n",
    "# df_returns = feature.change(df_returns, 'symbol' , 'cal_yearperiod' , 2, ['usd_adjClose'], log=True)\n",
    "# df_returns = feature.change(df_returns, 'symbol' , 'cal_yearperiod' , 3, ['usd_adjClose'], log=True)\n",
    "# df_returns = feature.change(df_returns, 'symbol' , 'cal_yearperiod' , 4, ['usd_adjClose'], log=True)"
   ]
  },
  {
   "cell_type": "code",
   "execution_count": 15,
   "metadata": {},
   "outputs": [
    {
     "data": {
      "text/plain": [
       "(257, 135)"
      ]
     },
     "execution_count": 15,
     "metadata": {},
     "output_type": "execute_result"
    }
   ],
   "source": [
    "df_returns.shape"
   ]
  },
  {
   "cell_type": "code",
   "execution_count": 16,
   "metadata": {},
   "outputs": [
    {
     "name": "stdout",
     "output_type": "stream",
     "text": [
      "New DataFrame assigned\n",
      "New DataFrame assigned\n"
     ]
    }
   ],
   "source": [
    "## add global and industry comparatives for 4 quarters returns\n",
    "\n",
    "### simple returns averages\n",
    "df_returns = feature.add_avg(df_returns, ['usd_adjClose_t-1_change'])\n",
    "df_returns = feature.add_avg(df_returns, ['usd_adjClose_t-2_change'])\n",
    "\n",
    "# df_returns = feature.add_avg(df_returns, ['usd_adjClose_t-3_change'])\n",
    "# df_returns = feature.add_avg(df_returns, ['usd_adjClose_t-4_change'])\n",
    "\n",
    "### log returns averages\n",
    "# df_returns = feature.add_avg(df_returns, ['usd_adjClose_t-1_logchange'])\n",
    "# df_returns = feature.add_avg(df_returns, ['usd_adjClose_t-2_logchange'])\n",
    "# df_returns = feature.add_avg(df_returns, ['usd_adjClose_t-3_logchange'])\n",
    "# df_returns = feature.add_avg(df_returns, ['usd_adjClose_t-4_logchange'])"
   ]
  },
  {
   "cell_type": "code",
   "execution_count": 17,
   "metadata": {},
   "outputs": [
    {
     "data": {
      "text/plain": [
       "(253, 144)"
      ]
     },
     "execution_count": 17,
     "metadata": {},
     "output_type": "execute_result"
    }
   ],
   "source": [
    "df_returns.shape"
   ]
  },
  {
   "cell_type": "code",
   "execution_count": 18,
   "metadata": {},
   "outputs": [
    {
     "data": {
      "text/plain": [
       "['key_shift',\n",
       " 'Unnamed: 0',\n",
       " 'Unnamed: 0.1',\n",
       " 'key',\n",
       " 'key_main',\n",
       " 'symbol',\n",
       " 'companyName',\n",
       " 'currency',\n",
       " 'fx_quarter',\n",
       " 'fx_stock',\n",
       " 'key_fx',\n",
       " 'month',\n",
       " 'year',\n",
       " 'yearmonth',\n",
       " 'datetime',\n",
       " 'date',\n",
       " 'fin_period',\n",
       " 'fin_calendarYear',\n",
       " 'fin_acceptedDateDate',\n",
       " 'fin_fillingDate',\n",
       " 'fin_reportedCurrency',\n",
       " 'cal_period',\n",
       " 'cal_yearperiod',\n",
       " 'exchange',\n",
       " 'exchangeShortName',\n",
       " 'industry',\n",
       " 'industry-category',\n",
       " 'sector',\n",
       " 'country',\n",
       " 'usd_adjClose',\n",
       " 'usd_marketCap',\n",
       " 'usd_bs_cashAndCashEquivalents',\n",
       " 'usd_bs_shortTermInvestments',\n",
       " 'usd_bs_cashAndShortTermInvestments',\n",
       " 'usd_bs_netReceivables',\n",
       " 'usd_bs_inventory',\n",
       " 'usd_bs_otherCurrentAssets',\n",
       " 'usd_bs_totalCurrentAssets',\n",
       " 'usd_bs_propertyPlantEquipmentNet',\n",
       " 'usd_bs_goodwill',\n",
       " 'usd_bs_intangibleAssets',\n",
       " 'usd_bs_goodwillAndIntangibleAssets',\n",
       " 'usd_bs_longTermInvestments',\n",
       " 'usd_bs_taxAssets',\n",
       " 'usd_bs_otherNonCurrentAssets',\n",
       " 'usd_bs_totalNonCurrentAssets',\n",
       " 'usd_bs_otherAssets',\n",
       " 'usd_bs_totalAssets',\n",
       " 'usd_bs_accountPayables',\n",
       " 'usd_bs_shortTermDebt',\n",
       " 'usd_bs_taxPayables',\n",
       " 'usd_bs_deferredRevenue',\n",
       " 'usd_bs_otherCurrentLiabilities',\n",
       " 'usd_bs_totalCurrentLiabilities',\n",
       " 'usd_bs_longTermDebt',\n",
       " 'usd_bs_deferredRevenueNonCurrent',\n",
       " 'usd_bs_deferrredTaxLiabilitiesNonCurrent',\n",
       " 'usd_bs_otherNonCurrentLiabilities',\n",
       " 'usd_bs_totalNonCurrentLiabilities',\n",
       " 'usd_bs_otherLiabilities',\n",
       " 'usd_bs_totalLiabilities',\n",
       " 'usd_bs_commonStock',\n",
       " 'usd_bs_retainedEarnings',\n",
       " 'usd_bs_accumulatedOtherComprehensiveIncomeLoss',\n",
       " 'usd_bs_othertotalStockholdersEquity',\n",
       " 'usd_bs_totalStockholdersEquity',\n",
       " 'usd_bs_totalLiabilitiesAndStockholdersEquity',\n",
       " 'usd_bs_totalInvestments',\n",
       " 'usd_bs_totalDebt',\n",
       " 'usd_bs_netDebt',\n",
       " 'usd_pnl_revenue',\n",
       " 'usd_pnl_costOfRevenue',\n",
       " 'usd_pnl_grossProfit',\n",
       " 'pnl_grossProfitRatio',\n",
       " 'usd_pnl_researchAndDevelopmentExpenses',\n",
       " 'usd_pnl_generalAndAdministrativeExpenses',\n",
       " 'usd_pnl_sellingAndMarketingExpenses',\n",
       " 'usd_pnl_sellingGeneralAndAdministrativeExpenses',\n",
       " 'usd_pnl_otherExpenses',\n",
       " 'usd_pnl_operatingExpenses',\n",
       " 'usd_pnl_costAndExpenses',\n",
       " 'usd_pnl_interestIncome',\n",
       " 'usd_pnl_interestExpense',\n",
       " 'usd_pnl_depreciationAndAmortization',\n",
       " 'usd_pnl_ebitda',\n",
       " 'pnl_ebitdaratio',\n",
       " 'usd_pnl_operatingIncome',\n",
       " 'pnl_operatingIncomeRatio',\n",
       " 'usd_pnl_totalOtherIncomeExpensesNet',\n",
       " 'usd_pnl_incomeBeforeTax',\n",
       " 'pnl_incomeBeforeTaxRatio',\n",
       " 'usd_pnl_incomeTaxExpense',\n",
       " 'usd_pnl_netIncome',\n",
       " 'pnl_netIncomeRatio',\n",
       " 'pnl_eps',\n",
       " 'pnl_epsdiluted',\n",
       " 'pnl_weightedAverageShsOut',\n",
       " 'pnl_weightedAverageShsOutDil',\n",
       " 'usd_cf_netIncome',\n",
       " 'usd_cf_depreciationAndAmortization',\n",
       " 'usd_cf_deferredIncomeTax',\n",
       " 'usd_cf_stockBasedCompensation',\n",
       " 'usd_cf_changeInWorkingCapital',\n",
       " 'usd_cf_accountsReceivables',\n",
       " 'usd_cf_inventory',\n",
       " 'usd_cf_accountsPayables',\n",
       " 'usd_cf_otherWorkingCapital',\n",
       " 'usd_cf_otherNonCashItems',\n",
       " 'usd_cf_netCashProvidedByOperatingActivites',\n",
       " 'usd_cf_investmentsInPropertyPlantAndEquipment',\n",
       " 'usd_cf_acquisitionsNet',\n",
       " 'usd_cf_purchasesOfInvestments',\n",
       " 'usd_cf_salesMaturitiesOfInvestments',\n",
       " 'usd_cf_otherInvestingActivites',\n",
       " 'usd_cf_netCashUsedForInvestingActivites',\n",
       " 'usd_cf_debtRepayment',\n",
       " 'usd_cf_commonStockIssued',\n",
       " 'usd_cf_commonStockRepurchased',\n",
       " 'usd_cf_dividendsPaid',\n",
       " 'usd_cf_otherFinancingActivites',\n",
       " 'usd_cf_netCashUsedProvidedByFinancingActivities',\n",
       " 'usd_cf_effectOfForexChangesOnCash',\n",
       " 'usd_cf_netChangeInCash',\n",
       " 'usd_cf_cashAtEndOfPeriod',\n",
       " 'usd_cf_cashAtBeginningOfPeriod',\n",
       " 'usd_cf_operatingCashFlow',\n",
       " 'usd_cf_capitalExpenditure',\n",
       " 'usd_cf_freeCashFlow',\n",
       " 'marketCap_log',\n",
       " 'usd_adjClose_t-1',\n",
       " 'usd_adjClose_t-1_delta',\n",
       " 'usd_adjClose_t-1_change',\n",
       " 'usd_adjClose_t-2',\n",
       " 'usd_adjClose_t-2_delta',\n",
       " 'usd_adjClose_t-2_change',\n",
       " 'key_industry',\n",
       " 'usd_adjClose_t-1_change_indavg',\n",
       " 'usd_adjClose_t-1_change_globalavg',\n",
       " 'usd_adjClose_t-1_change_excess_indavg',\n",
       " 'usd_adjClose_t-1_change_excess_globalavg',\n",
       " 'usd_adjClose_t-2_change_indavg',\n",
       " 'usd_adjClose_t-2_change_globalavg',\n",
       " 'usd_adjClose_t-2_change_excess_indavg',\n",
       " 'usd_adjClose_t-2_change_excess_globalavg']"
      ]
     },
     "execution_count": 18,
     "metadata": {},
     "output_type": "execute_result"
    }
   ],
   "source": [
    "## check columns\n",
    "\n",
    "df_returns.columns.tolist()"
   ]
  },
  {
   "cell_type": "code",
   "execution_count": 19,
   "metadata": {},
   "outputs": [
    {
     "data": {
      "text/plain": [
       "(253, 144)"
      ]
     },
     "execution_count": 19,
     "metadata": {},
     "output_type": "execute_result"
    }
   ],
   "source": [
    "df_returns.shape"
   ]
  },
  {
   "cell_type": "code",
   "execution_count": 20,
   "metadata": {},
   "outputs": [
    {
     "name": "stdout",
     "output_type": "stream",
     "text": [
      "['key_shift', 'Unnamed: 0', 'Unnamed: 0.1', 'key', 'key_main', 'symbol', 'companyName', 'currency', 'fx_quarter', 'fx_stock', 'key_fx', 'month', 'year', 'yearmonth', 'datetime', 'date', 'fin_period', 'fin_calendarYear', 'fin_acceptedDateDate', 'fin_fillingDate', 'fin_reportedCurrency', 'cal_period', 'cal_yearperiod', 'exchange', 'exchangeShortName', 'industry', 'industry-category', 'sector', 'country', 'usd_adjClose', 'usd_marketCap', 'usd_bs_cashAndCashEquivalents', 'usd_bs_shortTermInvestments', 'usd_bs_cashAndShortTermInvestments', 'usd_bs_netReceivables', 'usd_bs_inventory', 'usd_bs_otherCurrentAssets', 'usd_bs_totalCurrentAssets', 'usd_bs_propertyPlantEquipmentNet', 'usd_bs_goodwill', 'usd_bs_intangibleAssets', 'usd_bs_goodwillAndIntangibleAssets', 'usd_bs_longTermInvestments', 'usd_bs_taxAssets', 'usd_bs_otherNonCurrentAssets', 'usd_bs_totalNonCurrentAssets', 'usd_bs_otherAssets', 'usd_bs_totalAssets', 'usd_bs_accountPayables', 'usd_bs_shortTermDebt', 'usd_bs_taxPayables', 'usd_bs_deferredRevenue', 'usd_bs_otherCurrentLiabilities', 'usd_bs_totalCurrentLiabilities', 'usd_bs_longTermDebt', 'usd_bs_deferredRevenueNonCurrent', 'usd_bs_deferrredTaxLiabilitiesNonCurrent', 'usd_bs_otherNonCurrentLiabilities', 'usd_bs_totalNonCurrentLiabilities', 'usd_bs_otherLiabilities', 'usd_bs_totalLiabilities', 'usd_bs_commonStock', 'usd_bs_retainedEarnings', 'usd_bs_accumulatedOtherComprehensiveIncomeLoss', 'usd_bs_othertotalStockholdersEquity', 'usd_bs_totalStockholdersEquity', 'usd_bs_totalLiabilitiesAndStockholdersEquity', 'usd_bs_totalInvestments', 'usd_bs_totalDebt', 'usd_bs_netDebt', 'usd_pnl_revenue', 'usd_pnl_costOfRevenue', 'usd_pnl_grossProfit', 'pnl_grossProfitRatio', 'usd_pnl_researchAndDevelopmentExpenses', 'usd_pnl_generalAndAdministrativeExpenses', 'usd_pnl_sellingAndMarketingExpenses', 'usd_pnl_sellingGeneralAndAdministrativeExpenses', 'usd_pnl_otherExpenses', 'usd_pnl_operatingExpenses', 'usd_pnl_costAndExpenses', 'usd_pnl_interestIncome', 'usd_pnl_interestExpense', 'usd_pnl_depreciationAndAmortization', 'usd_pnl_ebitda', 'pnl_ebitdaratio', 'usd_pnl_operatingIncome', 'pnl_operatingIncomeRatio', 'usd_pnl_totalOtherIncomeExpensesNet', 'usd_pnl_incomeBeforeTax', 'pnl_incomeBeforeTaxRatio', 'usd_pnl_incomeTaxExpense', 'usd_pnl_netIncome', 'pnl_netIncomeRatio', 'pnl_eps', 'pnl_epsdiluted', 'pnl_weightedAverageShsOut', 'pnl_weightedAverageShsOutDil', 'usd_cf_netIncome', 'usd_cf_depreciationAndAmortization', 'usd_cf_deferredIncomeTax', 'usd_cf_stockBasedCompensation', 'usd_cf_changeInWorkingCapital', 'usd_cf_accountsReceivables', 'usd_cf_inventory', 'usd_cf_accountsPayables', 'usd_cf_otherWorkingCapital', 'usd_cf_otherNonCashItems', 'usd_cf_netCashProvidedByOperatingActivites', 'usd_cf_investmentsInPropertyPlantAndEquipment', 'usd_cf_acquisitionsNet', 'usd_cf_purchasesOfInvestments', 'usd_cf_salesMaturitiesOfInvestments', 'usd_cf_otherInvestingActivites', 'usd_cf_netCashUsedForInvestingActivites', 'usd_cf_debtRepayment', 'usd_cf_commonStockIssued', 'usd_cf_commonStockRepurchased', 'usd_cf_dividendsPaid', 'usd_cf_otherFinancingActivites', 'usd_cf_netCashUsedProvidedByFinancingActivities', 'usd_cf_effectOfForexChangesOnCash', 'usd_cf_netChangeInCash', 'usd_cf_cashAtEndOfPeriod', 'usd_cf_cashAtBeginningOfPeriod', 'usd_cf_operatingCashFlow', 'usd_cf_capitalExpenditure', 'usd_cf_freeCashFlow', 'marketCap_log', 'usd_adjClose_t-1', 'usd_adjClose_t-1_delta', 'usd_adjClose_t-1_change', 'usd_adjClose_t-2', 'usd_adjClose_t-2_delta', 'usd_adjClose_t-2_change', 'key_industry', 'usd_adjClose_t-1_change_indavg', 'usd_adjClose_t-1_change_globalavg', 'usd_adjClose_t-1_change_excess_indavg', 'usd_adjClose_t-1_change_excess_globalavg', 'usd_adjClose_t-2_change_indavg', 'usd_adjClose_t-2_change_globalavg', 'usd_adjClose_t-2_change_excess_indavg', 'usd_adjClose_t-2_change_excess_globalavg']\n"
     ]
    }
   ],
   "source": [
    "print(df_returns.columns.tolist())"
   ]
  },
  {
   "cell_type": "code",
   "execution_count": 22,
   "metadata": {},
   "outputs": [
    {
     "name": "stdout",
     "output_type": "stream",
     "text": [
      "New DataFrame assigned\n",
      "EBITDA\n",
      "EBITDA_ratio: usd_pnl_ebitda , usd_pnl_revenue\n",
      "removed 0 rows after EBITDA_ratio\n",
      "total removed: 0 rows, 0 %\n",
      "\n",
      "ROA_EBITDA\n",
      "ROA_EBITDA_ratio: usd_pnl_ebitda , usd_bs_totalAssets\n",
      "removed 0 rows after ROA_EBITDA_ratio\n",
      "total removed: 0 rows, 0 %\n",
      "\n",
      "DA\n",
      "DA_ratio: usd_bs_totalDebt , usd_bs_totalAssets\n",
      "removed 0 rows after DA_ratio\n",
      "total removed: 0 rows, 0 %\n",
      "\n",
      "CURR\n",
      "CURR_ratio: usd_bs_totalCurrentAssets , usd_bs_totalCurrentLiabilities\n",
      "removed 0 rows after CURR_ratio\n",
      "total removed: 0 rows, 0 %\n",
      "\n",
      "CASH2ASSETS\n",
      "CASH2ASSETS_ratio: usd_bs_cashAndCashEquivalents , usd_bs_totalAssets\n",
      "removed 0 rows after CASH2ASSETS_ratio\n",
      "total removed: 0 rows, 0 %\n",
      "\n",
      "CF2CL\n",
      "CF2CL_ratio: usd_cf_netCashProvidedByOperatingActivites , usd_bs_totalCurrentLiabilities\n",
      "removed 0 rows after CF2CL_ratio\n",
      "total removed: 0 rows, 0 %\n",
      "\n",
      "CF2D\n",
      "CF2D_ratio: usd_cf_netCashProvidedByOperatingActivites , usd_bs_totalDebt\n",
      "removed 0 rows after CF2D_ratio\n",
      "total removed: 0 rows, 0 %\n",
      "\n",
      "CF2LIAB\n",
      "CF2LIAB_ratio: usd_cf_netCashProvidedByOperatingActivites , usd_bs_totalLiabilities\n",
      "removed 0 rows after CF2LIAB_ratio\n",
      "total removed: 0 rows, 0 %\n",
      "\n"
     ]
    },
    {
     "data": {
      "text/plain": [
       "(253, 184)"
      ]
     },
     "execution_count": 22,
     "metadata": {},
     "output_type": "execute_result"
    }
   ],
   "source": [
    "# construct financial ratios as predictors\n",
    "\n",
    "df_ratios = feature.add_ratio(df_returns,\n",
    "    ## profitability ratios\n",
    "    # GP=('usd_pnl_grossProfit', 'usd_pnl_revenue'),\n",
    "    EBITDA=('usd_pnl_ebitda' , 'usd_pnl_revenue'),\n",
    "    # OI=('usd_pnl_operatingIncome' , 'usd_pnl_revenue'),\n",
    "    # NI = ('usd_pnl_incomeBeforeTax' , 'usd_pnl_revenue'),\n",
    "    # ROA_OI = ('usd_pnl_operatingIncome' , 'usd_bs_totalAssets'),\n",
    "    ROA_EBITDA = ('usd_pnl_ebitda' , 'usd_bs_totalAssets'),\n",
    "    # ROA_NI = ('usd_pnl_incomeBeforeTax' , 'usd_bs_totalAssets'),\n",
    "    # ROE_OI = ('usd_pnl_operatingIncome' , 'usd_bs_totalStockholdersEquity'),\n",
    "    # ROE_EBITDA = ('usd_pnl_ebitda' , 'usd_bs_totalStockholdersEquity'),\n",
    "    # ROE_NI = ('usd_pnl_incomeBeforeTax' , 'usd_bs_totalStockholdersEquity'),\n",
    "    ## solvency \n",
    "    # DE=('usd_bs_totalDebt' , 'usd_bs_totalStockholdersEquity' ),\n",
    "    DA = ('usd_bs_totalDebt', 'usd_bs_totalAssets'),\n",
    "    CURR=('usd_bs_totalCurrentAssets' , 'usd_bs_totalCurrentLiabilities'),\n",
    "    # INTCOV = ('usd_pnl_operatingIncome' , 'usd_pnl_interestExpense'),\n",
    "    CASH2ASSETS = ('usd_bs_cashAndCashEquivalents' , 'usd_bs_totalAssets'),\n",
    "    CF2CL=('usd_cf_netCashProvidedByOperatingActivites' , 'usd_bs_totalCurrentLiabilities'),\n",
    "    CF2D=('usd_cf_netCashProvidedByOperatingActivites' , 'usd_bs_totalDebt'),\n",
    "    CF2LIAB=('usd_cf_netCashProvidedByOperatingActivites' , 'usd_bs_totalLiabilities'),\n",
    "    )\n",
    "\n",
    "df_ratios.shape"
   ]
  },
  {
   "cell_type": "code",
   "execution_count": 23,
   "metadata": {},
   "outputs": [
    {
     "name": "stdout",
     "output_type": "stream",
     "text": [
      "['DA_ratio', 'pnl_ebitdaratio', 'CF2LIAB_ratio', 'CURR_ratio', 'ROA_EBITDA_ratio', 'CF2CL_ratio', 'EBITDA_ratio', 'CASH2ASSETS_ratio', 'CF2D_ratio']\n",
      "(253, 211)\n"
     ]
    }
   ],
   "source": [
    "cols_ratios = set(df_ratios.columns.unique())\n",
    "# cols_returns = set(df_returns.columns.unique())\n",
    "\n",
    "ratios = [i for i in cols_ratios if i[-5:] == \"ratio\"]\n",
    "## list of all ratios created\n",
    "print(ratios)\n",
    "\n",
    "# calculate pct change of ratios vs prior period\n",
    "df_ratios_change = feature.change(df_ratios, 'symbol' , 'cal_yearperiod', 1 , ratios)\n",
    "print(df_ratios_change.shape)"
   ]
  },
  {
   "cell_type": "code",
   "execution_count": null,
   "metadata": {},
   "outputs": [],
   "source": [
    "change = list(set(df_ratios_change.columns.unique()))\n",
    "\n",
    "cols_change = [i for i in change if i[-6:] == \"change\" and i[-8:]!= 'exchange' and i[:12]!= 'usd_adjClose']\n",
    "print(cols_change)"
   ]
  },
  {
   "cell_type": "code",
   "execution_count": null,
   "metadata": {},
   "outputs": [],
   "source": [
    "df_final_v1 = feature.add_avg(df_ratios_change, cols_change)\n",
    "print(df_final_v1.shape)"
   ]
  },
  {
   "cell_type": "code",
   "execution_count": null,
   "metadata": {},
   "outputs": [],
   "source": [
    "cols_drop = feature.cols('fin') + feature.cols('ratios') ## columns to be droped keeping featues only\n",
    "df_final_v2 = df_final_v1.drop(columns=cols_drop)\n",
    "df_final_v3 = df_final_v2.dropna()\n"
   ]
  },
  {
   "cell_type": "code",
   "execution_count": null,
   "metadata": {},
   "outputs": [],
   "source": [
    "df_final_v2.info(verbose=True, show_counts=True)"
   ]
  },
  {
   "cell_type": "code",
   "execution_count": null,
   "metadata": {},
   "outputs": [],
   "source": [
    "print(df_final_v2.shape[0], df_final_v3.shape[0])"
   ]
  },
  {
   "cell_type": "code",
   "execution_count": null,
   "metadata": {},
   "outputs": [],
   "source": [
    "df_final_vf = df_final_v2"
   ]
  },
  {
   "cell_type": "code",
   "execution_count": null,
   "metadata": {},
   "outputs": [],
   "source": [
    "df_final_periods = df_final_vf.groupby(['year' , 'cal_period'])['symbol'].count().reset_index()\n",
    "df_final_periods = df_final_periods.groupby('year').agg(NoQ=('cal_period', 'count'), NoCompanies=('symbol', 'sum'))\n",
    "df_final_periods"
   ]
  },
  {
   "cell_type": "code",
   "execution_count": null,
   "metadata": {},
   "outputs": [],
   "source": [
    "df_final_v3[df_final_v3.symbol=='AAPL'].groupby('year')['cal_yearperiod'].count()\n"
   ]
  },
  {
   "cell_type": "code",
   "execution_count": null,
   "metadata": {},
   "outputs": [],
   "source": [
    "df_aapl_vf = df_final_v2[df_final_v2.symbol=='AAPL']\n",
    "df_aapl_vf"
   ]
  },
  {
   "cell_type": "code",
   "execution_count": null,
   "metadata": {},
   "outputs": [],
   "source": [
    "# df_final_vf = pd.read_csv('../data/df_final_vf2.csv')\n",
    "# df_final_vf.to_csv('../data/df_final_vwzeros.csv')"
   ]
  },
  {
   "cell_type": "code",
   "execution_count": null,
   "metadata": {},
   "outputs": [],
   "source": [
    "len(df_final_vf.symbol.unique())"
   ]
  },
  {
   "cell_type": "code",
   "execution_count": null,
   "metadata": {},
   "outputs": [],
   "source": [
    "df_final_vf.currency"
   ]
  }
 ],
 "metadata": {
  "kernelspec": {
   "display_name": "Python 3.9.12 (conda)",
   "language": "python",
   "name": "python3"
  },
  "language_info": {
   "codemirror_mode": {
    "name": "ipython",
    "version": 3
   },
   "file_extension": ".py",
   "mimetype": "text/x-python",
   "name": "python",
   "nbconvert_exporter": "python",
   "pygments_lexer": "ipython3",
   "version": "3.9.12"
  },
  "orig_nbformat": 4,
  "vscode": {
   "interpreter": {
    "hash": "b0fc86a9df4aba0511da2b4a22b3426e1d473c2ad765ba889faa19fbb581a6ae"
   }
  }
 },
 "nbformat": 4,
 "nbformat_minor": 2
}
